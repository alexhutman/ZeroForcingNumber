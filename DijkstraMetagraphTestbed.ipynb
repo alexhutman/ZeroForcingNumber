{
 "cells": [
  {
   "cell_type": "markdown",
   "metadata": {},
   "source": [
    "## Load the ZFSearch module:"
   ]
  },
  {
   "cell_type": "code",
   "execution_count": null,
   "metadata": {
    "scrolled": false
   },
   "outputs": [],
   "source": [
    "from zeroforcing.metagraph import ZFSearchMetagraph"
   ]
  },
  {
   "cell_type": "markdown",
   "metadata": {},
   "source": [
    "# Pick a graph, any graph!\n",
    "## Initialize a test graph and the associated ZFSearchMetagraph"
   ]
  },
  {
   "cell_type": "code",
   "execution_count": null,
   "metadata": {},
   "outputs": [],
   "source": [
    "H = graphs.CoxeterGraph()\n",
    "H.show()"
   ]
  },
  {
   "cell_type": "markdown",
   "metadata": {},
   "source": [
    "## Construct the metagraph and then find the zero forcing set of G:"
   ]
  },
  {
   "cell_type": "code",
   "execution_count": null,
   "metadata": {
    "scrolled": false
   },
   "outputs": [],
   "source": [
    "metaGraph = ZFSearchMetagraph(H)\n",
    "print(\"This graph has\", H.num_verts(), \"vertices\")\n",
    "\n",
    "all_unfilled = metaGraph.to_relabeled_metavertex([])\n",
    "all_filled = metaGraph.to_relabeled_metavertex(H.vertices(sort=False))\n",
    "\n",
    "%prun output = metaGraph.dijkstra(all_unfilled, all_filled)\n",
    "print(\"Zero forcing number:\", len(output))\n",
    "print(\"Zero forcing set:\", output)"
   ]
  }
 ],
 "metadata": {
  "kernelspec": {
   "display_name": "SageMath 9.8.beta2",
   "language": "sage",
   "name": "sagemath"
  },
  "language_info": {
   "codemirror_mode": {
    "name": "ipython",
    "version": 3
   },
   "file_extension": ".py",
   "mimetype": "text/x-python",
   "name": "python",
   "nbconvert_exporter": "python",
   "pygments_lexer": "ipython3",
   "version": "3.10.5"
  }
 },
 "nbformat": 4,
 "nbformat_minor": 1
}
