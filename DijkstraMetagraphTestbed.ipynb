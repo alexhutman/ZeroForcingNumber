{
 "cells": [
  {
   "cell_type": "markdown",
   "metadata": {},
   "source": [
    "## Compile and load the ZFSearch module:"
   ]
  },
  {
   "cell_type": "code",
   "execution_count": null,
   "metadata": {
    "scrolled": false
   },
   "outputs": [],
   "source": [
    "load('zeroforcing/OneGinormousFile.pyx')"
   ]
  },
  {
   "cell_type": "markdown",
   "metadata": {},
   "source": [
    "# Pick a graph, any graph"
   ]
  },
  {
   "cell_type": "code",
   "execution_count": null,
   "metadata": {},
   "outputs": [],
   "source": [
    "# Initialize a test graph and the associated ZFSearchMetagraph\n",
    "#H = graphs.CubeGraph(5); H.relabel()\n",
    "#H = graphs.PetersenGraph()\n",
    "#H = graphs.CoxeterGraph()       # DNF/DNF/1,284sec/339sec/220sec\n",
    "#H = graphs.RobertsonGraph()     # DNF\n",
    "#H = grap\n",
    "hs.HeawoodGraph()       # 1.46/~1.20sec/1.03sec/0.22sec/0.16sec/0.12sec\n",
    "#H = graphs.BrinkmannGraph()     # DNF/DNF/66.5sec/43.3sec/29.81sec/25.97sec\n",
    "#H = graphs.HoffmanGraph()       # ~19sec/~13.7sec/2.57sec/2.00sec/1.6sec\n",
    "#H = graphs.ClebschGraph()       # DNF/36.3sec/12.8sec/7.8sec/6.7sec/4.8sec/4.22sec/2.90sec\n",
    "#H = graphs.DesarguesGraph()     # 14.56sec/8.00sec/5.6sec\n",
    "#H = graphs.DodecahedralGraph()  # ~25.9sec/~8.9sec/~4.2sec/3.02sec/2.90sec/2.12sec/1.07sec/0.80sec\n",
    "#H = graphs.HoffmanGraph().complement()\n",
    "#H = graphs.CompleteGraph(16)\n",
    "#H = graphs.RandomTree(22)\n",
    "#H = graphs.PathGraph(30)\n",
    "#H = graphs.StarGraph(4)\n",
    "#H = graphs.ClebschGraph().line_graph()\n",
    "#H = graphs.BrinkmannGraph().line_graph()\n",
    "#H = graphs.RobertsonGraph().line_graph()\n",
    "#H = graphs.CoxeterGraph().line_graph()\n",
    "H = graphs.MycielskiGraph(6)\n",
    "#H = graphs.PaleyGraph(17).line_graph()\n",
    "#H = graphs.PaleyGraph(73)\n",
    "#H = graphs.PaleyGraph(17)\n",
    "H.relabel()\n",
    "print(type(H))\n",
    "\n",
    "#d = {0: [1,2,4], 1: [0,2,5], 2: [0,1,3], 3: [2,4,5], 4: [0,3,5], 5: [1,3,4]}\n",
    "#H = Graph(d)\n",
    "\n",
    "if H.num_verts() < 70:\n",
    "    H.show()\n",
    "\n",
    "#metaGraph = ZFSearchMetagraphNewAlg(H)\n",
    "#%time calculate_all_closures(H)"
   ]
  },
  {
   "cell_type": "code",
   "execution_count": null,
   "metadata": {
    "scrolled": false
   },
   "outputs": [],
   "source": [
    "metaGraph = ZFSearchMetagraphNewAlg(H)\n",
    "#metaGraph = ZFSearchMetagraph(H)\n",
    "print()\n",
    "print(\"This graph has\", H.num_verts(), \"vertices\")\n",
    "all_unfilled = frozenset([])\n",
    "trial = frozenset([24,17,18,19])\n",
    "all_filled = frozenset(range(H.num_verts()))\n",
    "#print all_unfilled\n",
    "#print all_filled\n",
    "%prun output = dijkstra(metaGraph, all_unfilled, all_filled)\n",
    "#%prun output = dijkstra(metaGraph, trial, all_filled)\n",
    "print(output)\n",
    "#print \"Zero forcing number:\", len(output)\n",
    "#print \"Zero forcing set:   \", list(output)\n",
    "#print dijkstra(metaGraph, all_unfilled, all_filled)\n"
   ]
  },
  {
   "cell_type": "code",
   "execution_count": null,
   "metadata": {},
   "outputs": [],
   "source": [
    "load(\"Sandbox/bitset_sizes.pyx\")"
   ]
  }
 ],
 "metadata": {
  "kernelspec": {
   "display_name": "SageMath 9.8.beta2",
   "language": "sage",
   "name": "sagemath"
  },
  "language_info": {
   "codemirror_mode": {
    "name": "ipython",
    "version": 3
   },
   "file_extension": ".py",
   "mimetype": "text/x-python",
   "name": "python",
   "nbconvert_exporter": "python",
   "pygments_lexer": "ipython3",
   "version": "3.10.5"
  }
 },
 "nbformat": 4,
 "nbformat_minor": 1
}
